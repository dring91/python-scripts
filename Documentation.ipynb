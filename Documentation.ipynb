{
 "cells": [
  {
   "cell_type": "code",
   "execution_count": null,
   "metadata": {
    "collapsed": true
   },
   "outputs": [],
   "source": [
    "This is a notebook to document import python routines I have written"
   ]
  },
  {
   "cell_type": "markdown",
   "metadata": {},
   "source": [
    "# Reading Files"
   ]
  },
  {
   "cell_type": "markdown",
   "metadata": {},
   "source": [
    "I have written routines to read lammps data files, lammps trajectories, and xyz files. I am working on a routine to read H5MD trajectories. The routines are stored in the conf_tools.py file which can be accessed with a simple import command."
   ]
  },
  {
   "cell_type": "code",
   "execution_count": 3,
   "metadata": {
    "collapsed": true
   },
   "outputs": [],
   "source": [
    "from conf_tools import *"
   ]
  },
  {
   "cell_type": "markdown",
   "metadata": {},
   "source": [
    "The routine for reading lammps data files is shown below."
   ]
  },
  {
   "cell_type": "code",
   "execution_count": 4,
   "metadata": {
    "collapsed": true
   },
   "outputs": [],
   "source": [
    "def readConf(file, cast=True):\n",
    "\n",
    "  atoms = []\n",
    "  box = []\n",
    "  bonds = []\n",
    "  header = 'header'\n",
    "  for line in file:\n",
    "    L = line.split()\n",
    "    if len(L) > 0 and L[0] in ['Atoms','Velocities','Bonds']:\n",
    "      header = L[0]\n",
    "    if len(L) > 0 and L[-1] in ['xhi','yhi','zhi']:\n",
    "      box.append(L[:2])\n",
    "    elif len(L) > 4 and header == 'Atoms':\n",
    "      atoms.append(L)\n",
    "    elif len(L) > 3 and header == 'Bonds':\n",
    "      bonds.append(L)\n",
    "\n",
    "  if cast:\n",
    "    box = np.array(box,dtype=float)\n",
    "    atoms = np.array(atoms,dtype=float)\n",
    "    bonds = np.array(bonds,dtype=int)\n",
    "      \n",
    "  return box, atoms, bonds"
   ]
  },
  {
   "cell_type": "markdown",
   "metadata": {},
   "source": [
    "The routine for reading lammps trajectory files is shown below"
   ]
  },
  {
   "cell_type": "code",
   "execution_count": null,
   "metadata": {
    "collapsed": true
   },
   "outputs": [],
   "source": [
    "def readTrj(file, nCols=5):\n",
    "\n",
    "  \"\"\" default \"\"\"\n",
    "  time = None\n",
    "  nAtoms = 0\n",
    "  box = None \n",
    "  atoms = None\n",
    "  item = None\n",
    "\n",
    "  line = file.readline().strip()\n",
    "  while (line != ''):\n",
    "    L = line.split()\n",
    "    if L[0] == 'ITEM:':\n",
    "      item = L[1]\n",
    "    if item is not None:\n",
    "      if item == 'TIMESTEP':\n",
    "        line = file.readline().strip()\n",
    "        time = int(line)\n",
    "      elif item == 'NUMBER':\n",
    "        line = file.readline().strip()\n",
    "        nAtoms = int(line)\n",
    "      elif item == 'BOX':\n",
    "        box = np.fromfile(file, float, 6, ' ')\n",
    "        box = box.reshape((3,2))\n",
    "      elif item == 'ATOMS':\n",
    "        atoms = np.fromfile(file, float, nAtoms*nCols, ' ')\n",
    "        atoms = atoms.reshape((nAtoms, nCols))\n",
    "        break\n",
    "      else:\n",
    "        continue\n",
    "    line = file.readline().strip()\n",
    "\n",
    "  return time, box, atoms"
   ]
  }
 ],
 "metadata": {
  "kernelspec": {
   "display_name": "Python 2",
   "language": "python",
   "name": "python2"
  },
  "language_info": {
   "codemirror_mode": {
    "name": "ipython",
    "version": 2
   },
   "file_extension": ".py",
   "mimetype": "text/x-python",
   "name": "python",
   "nbconvert_exporter": "python",
   "pygments_lexer": "ipython2",
   "version": "2.7.10"
  }
 },
 "nbformat": 4,
 "nbformat_minor": 1
}
